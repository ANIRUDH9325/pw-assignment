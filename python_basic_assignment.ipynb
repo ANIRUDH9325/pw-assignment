{
  "nbformat": 4,
  "nbformat_minor": 0,
  "metadata": {
    "colab": {
      "provenance": [],
      "authorship_tag": "ABX9TyPG1ZX72IRSXg1q/b4m0skm",
      "include_colab_link": true
    },
    "kernelspec": {
      "name": "python3",
      "display_name": "Python 3"
    },
    "language_info": {
      "name": "python"
    }
  },
  "cells": [
    {
      "cell_type": "markdown",
      "metadata": {
        "id": "view-in-github",
        "colab_type": "text"
      },
      "source": [
        "<a href=\"https://colab.research.google.com/github/ANIRUDH9325/pw-assignment/blob/main/python_basic_assignment.ipynb\" target=\"_parent\"><img src=\"https://colab.research.google.com/assets/colab-badge.svg\" alt=\"Open In Colab\"/></a>"
      ]
    },
    {
      "cell_type": "code",
      "source": [
        "# 1)EXPLAIN KEY FEATURES OF PYTHON THAT MAKES IT POPULAR CHOICE FOR PROGRAMMING\n"
      ],
      "metadata": {
        "id": "lLzLQUVgr2cd"
      },
      "execution_count": 1,
      "outputs": []
    },
    {
      "cell_type": "markdown",
      "source": [
        "SIMPLICITY\n",
        "python is easy to learn and use with a clear syntax that resembles english its also an object oriented language\n",
        "vesitality in pthon is general purpose language that can be used for widely variety application\n",
        "other features of python are\n",
        "open source,sandard library and database support\n"
      ],
      "metadata": {
        "id": "MYWRfaeKcdD6"
      }
    },
    {
      "cell_type": "code",
      "source": [
        "#2) describe the role of predefined keywords in python and provide examples and how they are used\n",
        "#ANSWER-- in python predefined keywords are reserved words thst defines the syntax and structure of language\n",
        "#examples\n",
        "#print keyword\n",
        "print(\"hello world\")"
      ],
      "metadata": {
        "colab": {
          "base_uri": "https://localhost:8080/"
        },
        "id": "1jX0rI_Rb7BD",
        "outputId": "58402d41-7cd0-4cf6-85b7-3c6e3c80b7db"
      },
      "execution_count": 2,
      "outputs": [
        {
          "output_type": "stream",
          "name": "stdout",
          "text": [
            "hello world\n"
          ]
        }
      ]
    },
    {
      "cell_type": "code",
      "source": [
        "#example\n",
        "print(\"pw skills\")\n",
        "print(\"ajay gupta\")"
      ],
      "metadata": {
        "colab": {
          "base_uri": "https://localhost:8080/"
        },
        "id": "-CvVPDZAed3g",
        "outputId": "42707a5e-e5ff-4d77-8f12-ac9c1d65099c"
      },
      "execution_count": 3,
      "outputs": [
        {
          "output_type": "stream",
          "name": "stdout",
          "text": [
            "pw skills\n",
            "ajay gupta\n"
          ]
        }
      ]
    },
    {
      "cell_type": "code",
      "source": [
        "#3) compare and contrast muttable and immutable objects in python with example"
      ],
      "metadata": {
        "id": "32P9M3Y5elH9"
      },
      "execution_count": 1,
      "outputs": []
    },
    {
      "cell_type": "markdown",
      "source": [
        "ANSWER- in python the main difference between mutable and immutable\n",
        "objects is that mutable objects can be changed after they are created while immutable object cannnot ,mutable objects can be modified while immutable object cannot. use mutable object when you need to change the object state or content and use immutable objects for values that shoild not be modified                                        \n"
      ],
      "metadata": {
        "id": "si9VQ39F9s3l"
      }
    },
    {
      "cell_type": "code",
      "source": [
        "#EXAMPLES OF MUTABLE OBJECTS IN PYTHON\n",
        "my_list=[1,2,3]\n",
        "my_list.append(4)\n",
        "print(my_list)\n",
        "#here i understood that i can modify or change my list container as per my choice it shows that it is muttable"
      ],
      "metadata": {
        "colab": {
          "base_uri": "https://localhost:8080/"
        },
        "id": "4jdJXgt89qGj",
        "outputId": "cc592638-788b-4aed-b4c9-dd5ab597a120"
      },
      "execution_count": 3,
      "outputs": [
        {
          "output_type": "stream",
          "name": "stdout",
          "text": [
            "[1, 2, 3, 4]\n"
          ]
        }
      ]
    },
    {
      "cell_type": "code",
      "source": [
        "#EXAMPLE OF IMMUTABLE OBJECT IN PYTHON\n",
        "my_tuple=(1,2,3)\n",
        "my_tuple[0]=4\n",
        "print(my_tuple)\n",
        "#here this code gave an error as the object cannot be modified"
      ],
      "metadata": {
        "colab": {
          "base_uri": "https://localhost:8080/",
          "height": 193
        },
        "id": "-IzlEs_U_xy4",
        "outputId": "1043d773-2537-4f7c-9b27-07dc0d306118"
      },
      "execution_count": 4,
      "outputs": [
        {
          "output_type": "error",
          "ename": "TypeError",
          "evalue": "'tuple' object does not support item assignment",
          "traceback": [
            "\u001b[0;31m---------------------------------------------------------------------------\u001b[0m",
            "\u001b[0;31mTypeError\u001b[0m                                 Traceback (most recent call last)",
            "\u001b[0;32m<ipython-input-4-6cc72d1021bf>\u001b[0m in \u001b[0;36m<cell line: 3>\u001b[0;34m()\u001b[0m\n\u001b[1;32m      1\u001b[0m \u001b[0;31m#EXAMPLE OF IMMUTABLE OBJECT IN PYTHON\u001b[0m\u001b[0;34m\u001b[0m\u001b[0;34m\u001b[0m\u001b[0m\n\u001b[1;32m      2\u001b[0m \u001b[0mmy_tuple\u001b[0m\u001b[0;34m=\u001b[0m\u001b[0;34m(\u001b[0m\u001b[0;36m1\u001b[0m\u001b[0;34m,\u001b[0m\u001b[0;36m2\u001b[0m\u001b[0;34m,\u001b[0m\u001b[0;36m3\u001b[0m\u001b[0;34m)\u001b[0m\u001b[0;34m\u001b[0m\u001b[0;34m\u001b[0m\u001b[0m\n\u001b[0;32m----> 3\u001b[0;31m \u001b[0mmy_tuple\u001b[0m\u001b[0;34m[\u001b[0m\u001b[0;36m0\u001b[0m\u001b[0;34m]\u001b[0m\u001b[0;34m=\u001b[0m\u001b[0;36m4\u001b[0m\u001b[0;34m\u001b[0m\u001b[0;34m\u001b[0m\u001b[0m\n\u001b[0m\u001b[1;32m      4\u001b[0m \u001b[0mprint\u001b[0m\u001b[0;34m(\u001b[0m\u001b[0mmy_tuple\u001b[0m\u001b[0;34m)\u001b[0m\u001b[0;34m\u001b[0m\u001b[0;34m\u001b[0m\u001b[0m\n",
            "\u001b[0;31mTypeError\u001b[0m: 'tuple' object does not support item assignment"
          ]
        }
      ]
    },
    {
      "cell_type": "code",
      "source": [
        "#4)DISCUSS DIFFERENT TYPES OF OPERATORS IN PYTHON AND THEIR USES WITH EXAMPLES"
      ],
      "metadata": {
        "id": "pIe58ySgAWrI"
      },
      "execution_count": 6,
      "outputs": []
    },
    {
      "cell_type": "markdown",
      "source": [],
      "metadata": {
        "id": "oVkZrCmqEWDs"
      }
    },
    {
      "cell_type": "markdown",
      "source": [
        "**ANSWER**- there are several types of operators python the purpose of operators in python is to perform operatons on varaibles and other different values operators can be symbol or keywords or a combination of symbols used for performing variety of tasks below are some examples of operators"
      ],
      "metadata": {
        "id": "LdRnGRQ2C9qa"
      }
    },
    {
      "cell_type": "code",
      "source": [
        "#example of arith matic operator\n",
        "a=5\n",
        "b=6\n",
        "print(a+b)"
      ],
      "metadata": {
        "colab": {
          "base_uri": "https://localhost:8080/"
        },
        "id": "4S2hfOpzC8R8",
        "outputId": "e61446b4-b212-4ed4-cc20-1b42c50892cc"
      },
      "execution_count": 8,
      "outputs": [
        {
          "output_type": "stream",
          "name": "stdout",
          "text": [
            "11\n"
          ]
        }
      ]
    },
    {
      "cell_type": "code",
      "source": [
        "#example of assignment operators\n",
        "x=5\n",
        "x"
      ],
      "metadata": {
        "colab": {
          "base_uri": "https://localhost:8080/"
        },
        "id": "7GUVA0ZOEPN4",
        "outputId": "a58c0e54-eadc-4588-b77d-03fb894625f8"
      },
      "execution_count": 9,
      "outputs": [
        {
          "output_type": "execute_result",
          "data": {
            "text/plain": [
              "5"
            ]
          },
          "metadata": {},
          "execution_count": 9
        }
      ]
    },
    {
      "cell_type": "code",
      "source": [
        "#example of logical operator\n",
        "a=True\n",
        "b=False\n",
        "print(a and b)"
      ],
      "metadata": {
        "colab": {
          "base_uri": "https://localhost:8080/"
        },
        "id": "qVsk_MFCGnCe",
        "outputId": "f284a4ce-a151-465f-dc6d-28a309b1b844"
      },
      "execution_count": 10,
      "outputs": [
        {
          "output_type": "stream",
          "name": "stdout",
          "text": [
            "False\n"
          ]
        }
      ]
    },
    {
      "cell_type": "code",
      "source": [
        "print(a or b)"
      ],
      "metadata": {
        "colab": {
          "base_uri": "https://localhost:8080/"
        },
        "id": "jiytM2NLG6nS",
        "outputId": "83402a41-7f8d-4fde-d06c-ba3ab79f663d"
      },
      "execution_count": 11,
      "outputs": [
        {
          "output_type": "stream",
          "name": "stdout",
          "text": [
            "True\n"
          ]
        }
      ]
    },
    {
      "cell_type": "code",
      "source": [
        "#example of identity operator\n",
        "a=[1,2,3]\n",
        "b=[1,2,3]\n",
        "print(a is b)"
      ],
      "metadata": {
        "colab": {
          "base_uri": "https://localhost:8080/"
        },
        "id": "dKvosWkPG-EB",
        "outputId": "90d4ede0-3f95-4f1a-95ce-d2fc77cfb51d"
      },
      "execution_count": 13,
      "outputs": [
        {
          "output_type": "stream",
          "name": "stdout",
          "text": [
            "False\n"
          ]
        }
      ]
    },
    {
      "cell_type": "code",
      "source": [
        "#example of bitwise operator\n",
        "a=5\n",
        "b=3\n",
        "result=a|b"
      ],
      "metadata": {
        "id": "HZvubtrKHN95"
      },
      "execution_count": 14,
      "outputs": []
    },
    {
      "cell_type": "code",
      "source": [
        "result=a&b"
      ],
      "metadata": {
        "id": "W3MxDopuHjNU"
      },
      "execution_count": 15,
      "outputs": []
    },
    {
      "cell_type": "code",
      "source": [
        "#5)EXPLAIN THE CONCEPT OF TYPE CASTING WITH EXAMPLES IN PYTHON\n"
      ],
      "metadata": {
        "id": "nk85YxF_HnOF"
      },
      "execution_count": 16,
      "outputs": []
    },
    {
      "cell_type": "markdown",
      "source": [
        "type casting in python refers to the conversation of one data type to another this can be useful when you need to perform operation on different types of data or when you want to ensure that data is in expected format there are two types of casting1)implicit type casting,explicit type casting"
      ],
      "metadata": {
        "id": "hS87F3g5Ibof"
      }
    },
    {
      "cell_type": "code",
      "source": [
        "#example of type casting implicit\n",
        "a=5\n",
        "b=2.0\n",
        "result=a+b#implicit conversation of a to float\n",
        "print(result)"
      ],
      "metadata": {
        "colab": {
          "base_uri": "https://localhost:8080/"
        },
        "id": "h1dhovq8IZ9W",
        "outputId": "f677d619-f619-4419-9cbf-4de87e580150"
      },
      "execution_count": 17,
      "outputs": [
        {
          "output_type": "stream",
          "name": "stdout",
          "text": [
            "7.0\n"
          ]
        }
      ]
    },
    {
      "cell_type": "code",
      "source": [
        "#example of explicit and implicit casting\n",
        "a=10\n",
        "b=2.5\n",
        "result=a+b# implicit converts a to float\n",
        "print(result)\n",
        "#explict type casting\n",
        "string_number=\"100\"\n",
        "integer_number=int(string_number)\n",
        "print(integer_number)"
      ],
      "metadata": {
        "colab": {
          "base_uri": "https://localhost:8080/"
        },
        "id": "qLVpW_PMKUUl",
        "outputId": "07309674-47e3-4c7d-d2c7-d411639465d4"
      },
      "execution_count": 18,
      "outputs": [
        {
          "output_type": "stream",
          "name": "stdout",
          "text": [
            "12.5\n",
            "100\n"
          ]
        }
      ]
    },
    {
      "cell_type": "code",
      "source": [
        "#HOW CONDITIONAL STATEMENT WORK IN PYTHON ILLUSTRATE WITH EXAMPLES\n",
        "#if condition,elif condition,else:\n",
        "age=18\n",
        "if age>=18:\n",
        "    print(\"you are eligible to vote\")\n",
        "else:\n",
        "    print(\"you are not eligible to vote\")"
      ],
      "metadata": {
        "colab": {
          "base_uri": "https://localhost:8080/"
        },
        "id": "gKKDMPZuK6KB",
        "outputId": "b160fcf7-19a0-400d-97ec-30b42f11727b"
      },
      "execution_count": 19,
      "outputs": [
        {
          "output_type": "stream",
          "name": "stdout",
          "text": [
            "you are eligible to vote\n"
          ]
        }
      ]
    },
    {
      "cell_type": "code",
      "source": [
        "#conditional statement in python allow you to execute certain blocks of code based on wether a condition is true or false the primary conditional statement are if,elif,elif"
      ],
      "metadata": {
        "id": "tTCnkZorLju3"
      },
      "execution_count": 20,
      "outputs": []
    },
    {
      "cell_type": "code",
      "source": [
        "#6)describe different types of loops in python and their used cases with examples"
      ],
      "metadata": {
        "id": "vjtqP7PhL9xf"
      },
      "execution_count": 21,
      "outputs": []
    },
    {
      "cell_type": "markdown",
      "source": [
        "pyhon provides several types of loops to execute a block of code repeatdly the two primary types are for loops and while loops here an overview of each along with common use cases"
      ],
      "metadata": {
        "id": "m1kgBmCkMftU"
      }
    },
    {
      "cell_type": "code",
      "source": [
        "#example of loops\n",
        "#for loop\n",
        "fruits=[\"apple\",\"banana\",\"cherry\"]\n",
        "for fruit in fruits:\n",
        "    print(fruit)"
      ],
      "metadata": {
        "colab": {
          "base_uri": "https://localhost:8080/"
        },
        "id": "2Xn00vTKMeCi",
        "outputId": "ad346586-708a-45d4-a088-e01726c95128"
      },
      "execution_count": 22,
      "outputs": [
        {
          "output_type": "stream",
          "name": "stdout",
          "text": [
            "apple\n",
            "banana\n",
            "cherry\n"
          ]
        }
      ]
    },
    {
      "cell_type": "code",
      "source": [
        "for i in range(5):\n",
        "  print(i)"
      ],
      "metadata": {
        "colab": {
          "base_uri": "https://localhost:8080/"
        },
        "id": "1GrRDR9FNRHw",
        "outputId": "9eac3db9-0643-4707-a6e1-5e01dfd3f79d"
      },
      "execution_count": 23,
      "outputs": [
        {
          "output_type": "stream",
          "name": "stdout",
          "text": [
            "0\n",
            "1\n",
            "2\n",
            "3\n",
            "4\n"
          ]
        }
      ]
    },
    {
      "cell_type": "code",
      "source": [],
      "metadata": {
        "id": "sZtNZc5jNr5_"
      },
      "execution_count": null,
      "outputs": []
    }
  ]
}